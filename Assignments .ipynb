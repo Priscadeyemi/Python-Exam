{
 "cells": [
  {
   "cell_type": "markdown",
   "id": "92801300",
   "metadata": {},
   "source": [
    "## DAY3 ASSIGNMENT ON ARITHMETIC OPERATOR"
   ]
  },
  {
   "cell_type": "code",
   "execution_count": 1,
   "id": "6d5bbc64",
   "metadata": {},
   "outputs": [],
   "source": [
    "## create an input function for the user to calculate the quantity of food being served in the restaurant \n",
    "## The amount for food is(#12,000)\n",
    "## calculate the total amount of each dish."
   ]
  },
  {
   "cell_type": "code",
   "execution_count": 23,
   "id": "4f3ac458",
   "metadata": {},
   "outputs": [
    {
     "name": "stdout",
     "output_type": "stream",
     "text": [
      "what is the quantity of food served?:20\n",
      "what is the total amount of each dish?:600\n",
      "quantity of food served 20\n",
      "amount of food for each dish 600\n"
     ]
    }
   ],
   "source": [
    "user_input=input(\"what is the quantity of food served?:\")\n",
    "user2_input=input(\"what is the total amount of each dish?:\")\n",
    "price_food=12000\n",
    "print(f\"quantity of food served {user_input}\")\n",
    "print(f\"amount of food for each dish {user2_input}\")"
   ]
  },
  {
   "cell_type": "code",
   "execution_count": null,
   "id": "64d8ea65",
   "metadata": {},
   "outputs": [],
   "source": [
    "## exercise"
   ]
  },
  {
   "cell_type": "code",
   "execution_count": 24,
   "id": "a802ef8d",
   "metadata": {},
   "outputs": [],
   "source": [
    "## How can you use a dictionary to store and access information about a customer's orders, including the order number,\n",
    "## date, and items purchased? 5 records"
   ]
  }
 ],
 "metadata": {
  "kernelspec": {
   "display_name": "Python 3 (ipykernel)",
   "language": "python",
   "name": "python3"
  },
  "language_info": {
   "codemirror_mode": {
    "name": "ipython",
    "version": 3
   },
   "file_extension": ".py",
   "mimetype": "text/x-python",
   "name": "python",
   "nbconvert_exporter": "python",
   "pygments_lexer": "ipython3",
   "version": "3.11.5"
  }
 },
 "nbformat": 4,
 "nbformat_minor": 5
}
