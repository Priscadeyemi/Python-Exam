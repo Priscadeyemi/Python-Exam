{
 "cells": [
  {
   "cell_type": "code",
   "execution_count": 4,
   "id": "b6a54c4c",
   "metadata": {},
   "outputs": [],
   "source": [
    "## What is the average monthly income of employees based on their job role and job level?"
   ]
  },
  {
   "cell_type": "code",
   "execution_count": 5,
   "id": "2a61c1ba",
   "metadata": {},
   "outputs": [],
   "source": [
    "import pandas as pd"
   ]
  },
  {
   "cell_type": "code",
   "execution_count": 43,
   "id": "a9245415",
   "metadata": {},
   "outputs": [
    {
     "name": "stdout",
     "output_type": "stream",
     "text": [
      "          job_role  job_level  monthly_income\n",
      "0         Engineer         12        400000.0\n",
      "1  Finance Manager         10        350000.0\n",
      "2          Manager         14        500000.0\n",
      "3            P.R.O          7        150000.0\n",
      "4        Secretary          8        250000.0\n"
     ]
    }
   ],
   "source": [
    "data = {\n",
    "    \n",
    "    \"job_role\": [\"Finance Manager\", \"Secretary\",\"P.R.O\", \"Manager\",\"Engineer\"],\n",
    "    \"job_level\": [10, 8, 7, 14, 12],\n",
    "    \"monthly_income\": [350000, 250000, 150000, 500000, 400000],\n",
    "}\n",
    "\n",
    "employees = pd.DataFrame(data)\n",
    "\n",
    "average_income_by_role_level = employees.groupby([\"job_role\", \"job_level\"])[\"monthly_income\"].mean().reset_index()\n",
    "\n",
    "print(average_income_by_role_level)"
   ]
  },
  {
   "cell_type": "code",
   "execution_count": null,
   "id": "ed6687aa",
   "metadata": {},
   "outputs": [],
   "source": []
  }
 ],
 "metadata": {
  "kernelspec": {
   "display_name": "Python 3 (ipykernel)",
   "language": "python",
   "name": "python3"
  },
  "language_info": {
   "codemirror_mode": {
    "name": "ipython",
    "version": 3
   },
   "file_extension": ".py",
   "mimetype": "text/x-python",
   "name": "python",
   "nbconvert_exporter": "python",
   "pygments_lexer": "ipython3",
   "version": "3.11.5"
  }
 },
 "nbformat": 4,
 "nbformat_minor": 5
}
