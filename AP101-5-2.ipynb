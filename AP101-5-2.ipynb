{
 "cells": [
  {
   "cell_type": "code",
   "execution_count": 1,
   "id": "ae593a77",
   "metadata": {},
   "outputs": [],
   "source": [
    "## Implement a function that takes a year as input and returns the century it belongs to based on the given rules"
   ]
  },
  {
   "cell_type": "code",
   "execution_count": 30,
   "id": "c78baeed",
   "metadata": {},
   "outputs": [
    {
     "name": "stdout",
     "output_type": "stream",
     "text": [
      "408 belongs to the 5 century.\n"
     ]
    }
   ],
   "source": [
    "def calculate_century(year):\n",
    "    if year <= 0:\n",
    "        return \"year\"\n",
    "    century = (year - 1) // 100 + 1\n",
    "    return f\"{year} belongs to the {century} century.\"\n",
    "input_year = 408\n",
    "result = calculate_century(year_input)\n",
    "print(result)"
   ]
  },
  {
   "cell_type": "code",
   "execution_count": null,
   "id": "9a640ce6",
   "metadata": {},
   "outputs": [],
   "source": []
  },
  {
   "cell_type": "code",
   "execution_count": null,
   "id": "27161fed",
   "metadata": {},
   "outputs": [],
   "source": []
  }
 ],
 "metadata": {
  "kernelspec": {
   "display_name": "Python 3 (ipykernel)",
   "language": "python",
   "name": "python3"
  },
  "language_info": {
   "codemirror_mode": {
    "name": "ipython",
    "version": 3
   },
   "file_extension": ".py",
   "mimetype": "text/x-python",
   "name": "python",
   "nbconvert_exporter": "python",
   "pygments_lexer": "ipython3",
   "version": "3.11.5"
  }
 },
 "nbformat": 4,
 "nbformat_minor": 5
}
