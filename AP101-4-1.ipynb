{
 "cells": [
  {
   "cell_type": "code",
   "execution_count": 1,
   "id": "2fdcb244",
   "metadata": {},
   "outputs": [],
   "source": [
    "## implement a function to return the sum of two numbers"
   ]
  },
  {
   "cell_type": "code",
   "execution_count": 6,
   "id": "97235d75",
   "metadata": {},
   "outputs": [
    {
     "name": "stdout",
     "output_type": "stream",
     "text": [
      "21\n"
     ]
    }
   ],
   "source": [
    "def sum_numbers(num1, num2):\n",
    "    return num1 + num2\n",
    "result = sum_numbers(14, 7)\n",
    "print(result)"
   ]
  }
 ],
 "metadata": {
  "kernelspec": {
   "display_name": "Python 3 (ipykernel)",
   "language": "python",
   "name": "python3"
  },
  "language_info": {
   "codemirror_mode": {
    "name": "ipython",
    "version": 3
   },
   "file_extension": ".py",
   "mimetype": "text/x-python",
   "name": "python",
   "nbconvert_exporter": "python",
   "pygments_lexer": "ipython3",
   "version": "3.11.5"
  }
 },
 "nbformat": 4,
 "nbformat_minor": 5
}
