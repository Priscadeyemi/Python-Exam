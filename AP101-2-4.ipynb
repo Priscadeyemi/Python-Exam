{
 "cells": [
  {
   "cell_type": "code",
   "execution_count": 1,
   "id": "c1a9368d",
   "metadata": {},
   "outputs": [],
   "source": [
    "## Implement a Python program that displays all integers within the range of 100 to 200 whose sum of digits is an even number."
   ]
  },
  {
   "cell_type": "code",
   "execution_count": 8,
   "id": "f6af58a4",
   "metadata": {},
   "outputs": [
    {
     "name": "stdout",
     "output_type": "stream",
     "text": [
      "Integers with even digit sum: [101, 103, 105, 107, 109, 110, 112, 114, 116, 118, 121, 123, 125, 127, 129, 130, 132, 134, 136, 138, 141, 143, 145, 147, 149, 150, 152, 154, 156, 158, 161, 163, 165, 167, 169, 170, 172, 174, 176, 178, 181, 183, 185, 187, 189, 190, 192, 194, 196, 198, 200]\n"
     ]
    }
   ],
   "source": [
    "def sum_of_digits_is_even(number):\n",
    "    digit_sum = sum(int(digit) for digit in str(number))\n",
    "    \n",
    "    return digit_sum % 2 == 0\n",
    "\n",
    "result = [num for num in range(100, 201) if sum_of_digits_is_even(num)]\n",
    "\n",
    "print(\"Integers with even digit sum:\", result)"
   ]
  },
  {
   "cell_type": "code",
   "execution_count": null,
   "id": "f250a798",
   "metadata": {},
   "outputs": [],
   "source": []
  }
 ],
 "metadata": {
  "kernelspec": {
   "display_name": "Python 3 (ipykernel)",
   "language": "python",
   "name": "python3"
  },
  "language_info": {
   "codemirror_mode": {
    "name": "ipython",
    "version": 3
   },
   "file_extension": ".py",
   "mimetype": "text/x-python",
   "name": "python",
   "nbconvert_exporter": "python",
   "pygments_lexer": "ipython3",
   "version": "3.11.5"
  }
 },
 "nbformat": 4,
 "nbformat_minor": 5
}
