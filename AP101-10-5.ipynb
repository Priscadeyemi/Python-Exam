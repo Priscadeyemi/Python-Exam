{
 "cells": [
  {
   "cell_type": "code",
   "execution_count": 6,
   "id": "418e746e",
   "metadata": {},
   "outputs": [],
   "source": [
    "## Implement an inventory system with the following functionalities:\n",
    "\n",
    "## Add items to the inventory: When an item appears in a given list, increase its quantity by 1 in the inventory.\n",
    "## Delete items from the inventory: When an item is requested to be deleted, decrease its quantity by 1 in the inventory.\n",
    "## Get all key-value pairs: Implement a function to return all the key-value pairs in the inventory as a list of tuples.\""
   ]
  },
  {
   "cell_type": "code",
   "execution_count": 23,
   "id": "5a300f93",
   "metadata": {},
   "outputs": [
    {
     "name": "stdout",
     "output_type": "stream",
     "text": [
      "[('item1', 5), ('item2', 5)]\n"
     ]
    }
   ],
   "source": [
    "class InventorySystem:\n",
    "    def __init__(self):\n",
    "        self.inventory = {}\n",
    "\n",
    "    def add_item(self, item):\n",
    "        self.inventory[item] = self.inventory.get(item, 0) + 1\n",
    "\n",
    "    def delete_item(self, item):\n",
    "        if item in self.inventory and self.inventory[item] > 0:\n",
    "            self.inventory[item] -= 1\n",
    "\n",
    "    def get_all_items(self):\n",
    "        return list(self.inventory.items())\n",
    "       \n",
    "inventory_system.add_item(\"item1\")\n",
    "inventory_system.add_item(\"item2\")\n",
    "inventory_system.add_item(\"item1\")\n",
    "\n",
    "inventory_system.delete_item(\"item1\")\n",
    "\n",
    "all_items = inventory_system.get_all_items()\n",
    "\n",
    "print(all_items)"
   ]
  }
 ],
 "metadata": {
  "kernelspec": {
   "display_name": "Python 3 (ipykernel)",
   "language": "python",
   "name": "python3"
  },
  "language_info": {
   "codemirror_mode": {
    "name": "ipython",
    "version": 3
   },
   "file_extension": ".py",
   "mimetype": "text/x-python",
   "name": "python",
   "nbconvert_exporter": "python",
   "pygments_lexer": "ipython3",
   "version": "3.11.5"
  }
 },
 "nbformat": 4,
 "nbformat_minor": 5
}
