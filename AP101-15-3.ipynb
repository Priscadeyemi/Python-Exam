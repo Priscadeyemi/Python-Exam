{
 "cells": [
  {
   "cell_type": "code",
   "execution_count": null,
   "id": "1f28b1a0",
   "metadata": {},
   "outputs": [],
   "source": [
    "## Implement a Python program that counts the number of odd numbers in a given list."
   ]
  },
  {
   "cell_type": "code",
   "execution_count": 1,
   "id": "fdac658d",
   "metadata": {},
   "outputs": [
    {
     "name": "stdout",
     "output_type": "stream",
     "text": [
      "Number of odd numbers: 8\n"
     ]
    }
   ],
   "source": [
    "def count_odd_numbers(input_list):\n",
    "    odd_count = sum(1 for num in input_list if num % 2 != 0)\n",
    "    return odd_count\n",
    "\n",
    "numbers = [21, 32, 40, 47, 53, 16, 7, 18, 29, 10, 55, 23, 12, 17, 14]\n",
    "\n",
    "odd_count = count_odd_numbers(numbers)\n",
    "\n",
    "print(\"Number of odd numbers:\",odd_count)"
   ]
  },
  {
   "cell_type": "code",
   "execution_count": null,
   "id": "7477a37e",
   "metadata": {},
   "outputs": [],
   "source": []
  }
 ],
 "metadata": {
  "kernelspec": {
   "display_name": "Python 3 (ipykernel)",
   "language": "python",
   "name": "python3"
  },
  "language_info": {
   "codemirror_mode": {
    "name": "ipython",
    "version": 3
   },
   "file_extension": ".py",
   "mimetype": "text/x-python",
   "name": "python",
   "nbconvert_exporter": "python",
   "pygments_lexer": "ipython3",
   "version": "3.11.5"
  }
 },
 "nbformat": 4,
 "nbformat_minor": 5
}
