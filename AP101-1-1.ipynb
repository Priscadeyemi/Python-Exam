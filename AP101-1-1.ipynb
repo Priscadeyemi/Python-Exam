{
 "cells": [
  {
   "cell_type": "code",
   "execution_count": 1,
   "id": "851262a2",
   "metadata": {},
   "outputs": [],
   "source": [
    "## Create the exchange_money() function, taking 2 parameters: budget: The amount of money you are planning to exchange. \n",
    "## exchange_rate: The amount of domestic currency equal to one unit of foreign currency."
   ]
  },
  {
   "cell_type": "code",
   "execution_count": 2,
   "id": "8581464f",
   "metadata": {},
   "outputs": [
    {
     "name": "stdout",
     "output_type": "stream",
     "text": [
      "EXCHANGED CURRENCY IS 416.6666666666667 UNITS OF FOREIGN CURRENCY.\n"
     ]
    }
   ],
   "source": [
    "def exchange_money(budgeted_amount, exchange_rate):\n",
    "    \n",
    "    foreign_currency = budgeted_amount / exchange_rate\n",
    "    return foreign_currency\n",
    "\n",
    "budgeted_amount = 500000.00  \n",
    "exchange_rate = 1200\n",
    "result = exchange_money(budgeted_amount, exchange_rate)\n",
    "print(f\"EXCHANGED CURRENCY IS {result} UNITS OF FOREIGN CURRENCY.\")"
   ]
  },
  {
   "cell_type": "code",
   "execution_count": null,
   "id": "b2b19cb0",
   "metadata": {},
   "outputs": [],
   "source": []
  }
 ],
 "metadata": {
  "kernelspec": {
   "display_name": "Python 3 (ipykernel)",
   "language": "python",
   "name": "python3"
  },
  "language_info": {
   "codemirror_mode": {
    "name": "ipython",
    "version": 3
   },
   "file_extension": ".py",
   "mimetype": "text/x-python",
   "name": "python",
   "nbconvert_exporter": "python",
   "pygments_lexer": "ipython3",
   "version": "3.11.5"
  }
 },
 "nbformat": 4,
 "nbformat_minor": 5
}
