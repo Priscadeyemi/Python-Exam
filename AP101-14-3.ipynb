{
 "cells": [
  {
   "cell_type": "code",
   "execution_count": 1,
   "id": "9353d44b",
   "metadata": {},
   "outputs": [
    {
     "name": "stdout",
     "output_type": "stream",
     "text": [
      "enter an integer:57\n",
      "57 is not a prime number\n"
     ]
    }
   ],
   "source": [
    "## Implement a Python program that checks whether a given integer is a prime number or not\n",
    "def is_prime(number):\n",
    "    if number <2:\n",
    "        return False\n",
    "        for i in range(2,\n",
    "int(number**0.5) + 1):\n",
    "            if number % i ==0:\n",
    "                return False\n",
    "            return True\n",
    "user_input = int(input(\"enter an integer:\"))\n",
    "if is_prime(user_input):\n",
    "    print(f\"{user_input} is a prime number\")\n",
    "else:\n",
    "    print(f\"{user_input} is not a prime number\")"
   ]
  },
  {
   "cell_type": "code",
   "execution_count": null,
   "id": "83194434",
   "metadata": {},
   "outputs": [],
   "source": []
  }
 ],
 "metadata": {
  "kernelspec": {
   "display_name": "Python 3 (ipykernel)",
   "language": "python",
   "name": "python3"
  },
  "language_info": {
   "codemirror_mode": {
    "name": "ipython",
    "version": 3
   },
   "file_extension": ".py",
   "mimetype": "text/x-python",
   "name": "python",
   "nbconvert_exporter": "python",
   "pygments_lexer": "ipython3",
   "version": "3.11.5"
  }
 },
 "nbformat": 4,
 "nbformat_minor": 5
}
