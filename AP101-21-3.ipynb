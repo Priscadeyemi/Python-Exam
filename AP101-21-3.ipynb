{
 "cells": [
  {
   "cell_type": "code",
   "execution_count": null,
   "id": "020d0f62",
   "metadata": {},
   "outputs": [],
   "source": [
    "## What is the average environment satisfaction of employees based on their job role?"
   ]
  },
  {
   "cell_type": "code",
   "execution_count": 2,
   "id": "085c9e10",
   "metadata": {},
   "outputs": [],
   "source": [
    "import pandas as pd"
   ]
  },
  {
   "cell_type": "code",
   "execution_count": 3,
   "id": "b868aaa4",
   "metadata": {},
   "outputs": [
    {
     "name": "stdout",
     "output_type": "stream",
     "text": [
      "job_role\n",
      "Accountant         8.0\n",
      "Executive          4.0\n",
      "Finance Manager    5.0\n",
      "Human resource     3.0\n",
      "Marketer           6.0\n",
      "Name: environment_satisfaction, dtype: float64\n"
     ]
    }
   ],
   "source": [
    "data = {\n",
    "    \n",
    "    \"job_role\": [\"Marketer\", \"Human resource\", \"Executive\", \"Finance Manager\",\"Accountant\"],\n",
    "    'environment_satisfaction': [6, 3, 4, 5, 8]\n",
    "}\n",
    "employees = pd.DataFrame(data)\n",
    "\n",
    "average_satisfaction_by_role = employees.groupby(\"job_role\")[\"environment_satisfaction\"].mean()\n",
    "\n",
    "print(average_satisfaction_by_role)"
   ]
  },
  {
   "cell_type": "code",
   "execution_count": null,
   "id": "3bdef71d",
   "metadata": {},
   "outputs": [],
   "source": []
  }
 ],
 "metadata": {
  "kernelspec": {
   "display_name": "Python 3 (ipykernel)",
   "language": "python",
   "name": "python3"
  },
  "language_info": {
   "codemirror_mode": {
    "name": "ipython",
    "version": 3
   },
   "file_extension": ".py",
   "mimetype": "text/x-python",
   "name": "python",
   "nbconvert_exporter": "python",
   "pygments_lexer": "ipython3",
   "version": "3.11.5"
  }
 },
 "nbformat": 4,
 "nbformat_minor": 5
}
